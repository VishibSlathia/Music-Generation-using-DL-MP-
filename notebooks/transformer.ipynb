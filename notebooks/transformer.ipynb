{
  "cells": [
    {
      "cell_type": "code",
      "execution_count": null,
      "metadata": {
        "id": "t1IaXkTUcVqK",
        "colab": {
          "base_uri": "https://localhost:8080/"
        },
        "outputId": "8075c1b6-dd5e-460b-e594-d0c7a0a9357b"
      },
      "outputs": [
        {
          "output_type": "stream",
          "name": "stdout",
          "text": [
            "\u001b[2K     \u001b[90m━━━━━━━━━━━━━━━━━━━━━━━━━━━━━━━━━━━━━━━━\u001b[0m \u001b[32m5.6/5.6 MB\u001b[0m \u001b[31m41.8 MB/s\u001b[0m eta \u001b[36m0:00:00\u001b[0m\n",
            "\u001b[?25h  Preparing metadata (setup.py) ... \u001b[?25l\u001b[?25hdone\n",
            "\u001b[2K   \u001b[90m━━━━━━━━━━━━━━━━━━━━━━━━━━━━━━━━━━━━━━━━\u001b[0m \u001b[32m54.6/54.6 kB\u001b[0m \u001b[31m3.2 MB/s\u001b[0m eta \u001b[36m0:00:00\u001b[0m\n",
            "\u001b[?25h  Building wheel for pretty-midi (setup.py) ... \u001b[?25l\u001b[?25hdone\n"
          ]
        }
      ],
      "source": [
        "!pip install -qq midi_neural_processor\n",
        "!pip install -qq keras_hub\n",
        "!pip install -qq \"keras>=3.6.0\"  # Allows use of keras.utils.Config."
      ]
    },
    {
      "cell_type": "code",
      "execution_count": null,
      "metadata": {
        "id": "51ssRNi_cVqL",
        "colab": {
          "base_uri": "https://localhost:8080/"
        },
        "outputId": "685f2aa9-25a4-44dd-e163-c6a4a4734a43"
      },
      "outputs": [
        {
          "output_type": "stream",
          "name": "stdout",
          "text": [
            "Selecting previously unselected package libqt5core5a:amd64.\n",
            "(Reading database ... 126102 files and directories currently installed.)\n",
            "Preparing to unpack .../00-libqt5core5a_5.15.3+dfsg-2ubuntu0.2_amd64.deb ...\n",
            "Unpacking libqt5core5a:amd64 (5.15.3+dfsg-2ubuntu0.2) ...\n",
            "Selecting previously unselected package libevdev2:amd64.\n",
            "Preparing to unpack .../01-libevdev2_1.12.1+dfsg-1_amd64.deb ...\n",
            "Unpacking libevdev2:amd64 (1.12.1+dfsg-1) ...\n",
            "Selecting previously unselected package libmtdev1:amd64.\n",
            "Preparing to unpack .../02-libmtdev1_1.1.6-1build4_amd64.deb ...\n",
            "Unpacking libmtdev1:amd64 (1.1.6-1build4) ...\n",
            "Selecting previously unselected package libgudev-1.0-0:amd64.\n",
            "Preparing to unpack .../03-libgudev-1.0-0_1%3a237-2build1_amd64.deb ...\n",
            "Unpacking libgudev-1.0-0:amd64 (1:237-2build1) ...\n",
            "Selecting previously unselected package libwacom-common.\n",
            "Preparing to unpack .../04-libwacom-common_2.2.0-1_all.deb ...\n",
            "Unpacking libwacom-common (2.2.0-1) ...\n",
            "Selecting previously unselected package libwacom9:amd64.\n",
            "Preparing to unpack .../05-libwacom9_2.2.0-1_amd64.deb ...\n",
            "Unpacking libwacom9:amd64 (2.2.0-1) ...\n",
            "Selecting previously unselected package libinput-bin.\n",
            "Preparing to unpack .../06-libinput-bin_1.20.0-1ubuntu0.3_amd64.deb ...\n",
            "Unpacking libinput-bin (1.20.0-1ubuntu0.3) ...\n",
            "Selecting previously unselected package libinput10:amd64.\n",
            "Preparing to unpack .../07-libinput10_1.20.0-1ubuntu0.3_amd64.deb ...\n",
            "Unpacking libinput10:amd64 (1.20.0-1ubuntu0.3) ...\n",
            "Selecting previously unselected package libmd4c0:amd64.\n",
            "Preparing to unpack .../08-libmd4c0_0.4.8-1_amd64.deb ...\n",
            "Unpacking libmd4c0:amd64 (0.4.8-1) ...\n",
            "Selecting previously unselected package libqt5dbus5:amd64.\n",
            "Preparing to unpack .../09-libqt5dbus5_5.15.3+dfsg-2ubuntu0.2_amd64.deb ...\n",
            "Unpacking libqt5dbus5:amd64 (5.15.3+dfsg-2ubuntu0.2) ...\n",
            "Selecting previously unselected package libqt5network5:amd64.\n",
            "Preparing to unpack .../10-libqt5network5_5.15.3+dfsg-2ubuntu0.2_amd64.deb ...\n",
            "Unpacking libqt5network5:amd64 (5.15.3+dfsg-2ubuntu0.2) ...\n",
            "Selecting previously unselected package libxcb-icccm4:amd64.\n",
            "Preparing to unpack .../11-libxcb-icccm4_0.4.1-1.1build2_amd64.deb ...\n",
            "Unpacking libxcb-icccm4:amd64 (0.4.1-1.1build2) ...\n",
            "Selecting previously unselected package libxcb-util1:amd64.\n",
            "Preparing to unpack .../12-libxcb-util1_0.4.0-1build2_amd64.deb ...\n",
            "Unpacking libxcb-util1:amd64 (0.4.0-1build2) ...\n",
            "Selecting previously unselected package libxcb-image0:amd64.\n",
            "Preparing to unpack .../13-libxcb-image0_0.4.0-2_amd64.deb ...\n",
            "Unpacking libxcb-image0:amd64 (0.4.0-2) ...\n",
            "Selecting previously unselected package libxcb-keysyms1:amd64.\n",
            "Preparing to unpack .../14-libxcb-keysyms1_0.4.0-1build3_amd64.deb ...\n",
            "Unpacking libxcb-keysyms1:amd64 (0.4.0-1build3) ...\n",
            "Selecting previously unselected package libxcb-render-util0:amd64.\n",
            "Preparing to unpack .../15-libxcb-render-util0_0.3.9-1build3_amd64.deb ...\n",
            "Unpacking libxcb-render-util0:amd64 (0.3.9-1build3) ...\n",
            "Selecting previously unselected package libxcb-xinerama0:amd64.\n",
            "Preparing to unpack .../16-libxcb-xinerama0_1.14-3ubuntu3_amd64.deb ...\n",
            "Unpacking libxcb-xinerama0:amd64 (1.14-3ubuntu3) ...\n",
            "Selecting previously unselected package libxcb-xinput0:amd64.\n",
            "Preparing to unpack .../17-libxcb-xinput0_1.14-3ubuntu3_amd64.deb ...\n",
            "Unpacking libxcb-xinput0:amd64 (1.14-3ubuntu3) ...\n",
            "Selecting previously unselected package libxcb-xkb1:amd64.\n",
            "Preparing to unpack .../18-libxcb-xkb1_1.14-3ubuntu3_amd64.deb ...\n",
            "Unpacking libxcb-xkb1:amd64 (1.14-3ubuntu3) ...\n",
            "Selecting previously unselected package libxkbcommon-x11-0:amd64.\n",
            "Preparing to unpack .../19-libxkbcommon-x11-0_1.4.0-1_amd64.deb ...\n",
            "Unpacking libxkbcommon-x11-0:amd64 (1.4.0-1) ...\n",
            "Selecting previously unselected package libqt5gui5:amd64.\n",
            "Preparing to unpack .../20-libqt5gui5_5.15.3+dfsg-2ubuntu0.2_amd64.deb ...\n",
            "Unpacking libqt5gui5:amd64 (5.15.3+dfsg-2ubuntu0.2) ...\n",
            "Selecting previously unselected package libqt5widgets5:amd64.\n",
            "Preparing to unpack .../21-libqt5widgets5_5.15.3+dfsg-2ubuntu0.2_amd64.deb ...\n",
            "Unpacking libqt5widgets5:amd64 (5.15.3+dfsg-2ubuntu0.2) ...\n",
            "Selecting previously unselected package libqt5svg5:amd64.\n",
            "Preparing to unpack .../22-libqt5svg5_5.15.3-1_amd64.deb ...\n",
            "Unpacking libqt5svg5:amd64 (5.15.3-1) ...\n",
            "Selecting previously unselected package fluid-soundfont-gm.\n",
            "Preparing to unpack .../23-fluid-soundfont-gm_3.1-5.3_all.deb ...\n",
            "Unpacking fluid-soundfont-gm (3.1-5.3) ...\n",
            "Selecting previously unselected package libinstpatch-1.0-2:amd64.\n",
            "Preparing to unpack .../24-libinstpatch-1.0-2_1.1.6-1_amd64.deb ...\n",
            "Unpacking libinstpatch-1.0-2:amd64 (1.1.6-1) ...\n",
            "Selecting previously unselected package timgm6mb-soundfont.\n",
            "Preparing to unpack .../25-timgm6mb-soundfont_1.3-5_all.deb ...\n",
            "Unpacking timgm6mb-soundfont (1.3-5) ...\n",
            "Selecting previously unselected package libfluidsynth3:amd64.\n",
            "Preparing to unpack .../26-libfluidsynth3_2.2.5-1_amd64.deb ...\n",
            "Unpacking libfluidsynth3:amd64 (2.2.5-1) ...\n",
            "Selecting previously unselected package fluidsynth.\n",
            "Preparing to unpack .../27-fluidsynth_2.2.5-1_amd64.deb ...\n",
            "Unpacking fluidsynth (2.2.5-1) ...\n",
            "Selecting previously unselected package libwacom-bin.\n",
            "Preparing to unpack .../28-libwacom-bin_2.2.0-1_amd64.deb ...\n",
            "Unpacking libwacom-bin (2.2.0-1) ...\n",
            "Selecting previously unselected package qsynth.\n",
            "Preparing to unpack .../29-qsynth_0.9.6-1_amd64.deb ...\n",
            "Unpacking qsynth (0.9.6-1) ...\n",
            "Selecting previously unselected package qt5-gtk-platformtheme:amd64.\n",
            "Preparing to unpack .../30-qt5-gtk-platformtheme_5.15.3+dfsg-2ubuntu0.2_amd64.deb ...\n",
            "Unpacking qt5-gtk-platformtheme:amd64 (5.15.3+dfsg-2ubuntu0.2) ...\n",
            "Selecting previously unselected package qttranslations5-l10n.\n",
            "Preparing to unpack .../31-qttranslations5-l10n_5.15.3-1_all.deb ...\n",
            "Unpacking qttranslations5-l10n (5.15.3-1) ...\n",
            "Setting up libxcb-xinput0:amd64 (1.14-3ubuntu3) ...\n",
            "Setting up libxcb-keysyms1:amd64 (0.4.0-1build3) ...\n",
            "Setting up libxcb-render-util0:amd64 (0.3.9-1build3) ...\n",
            "Setting up libxcb-icccm4:amd64 (0.4.1-1.1build2) ...\n",
            "Setting up libxcb-util1:amd64 (0.4.0-1build2) ...\n",
            "Setting up libxcb-xkb1:amd64 (1.14-3ubuntu3) ...\n",
            "Setting up libxcb-image0:amd64 (0.4.0-2) ...\n",
            "Setting up libxcb-xinerama0:amd64 (1.14-3ubuntu3) ...\n",
            "Setting up qttranslations5-l10n (5.15.3-1) ...\n",
            "Setting up libxkbcommon-x11-0:amd64 (1.4.0-1) ...\n",
            "Setting up libqt5core5a:amd64 (5.15.3+dfsg-2ubuntu0.2) ...\n",
            "Setting up libmtdev1:amd64 (1.1.6-1build4) ...\n",
            "Setting up libqt5dbus5:amd64 (5.15.3+dfsg-2ubuntu0.2) ...\n",
            "Setting up libmd4c0:amd64 (0.4.8-1) ...\n",
            "Setting up fluid-soundfont-gm (3.1-5.3) ...\n",
            "update-alternatives: using /usr/share/sounds/sf2/FluidR3_GM.sf2 to provide /usr/share/sounds/sf2/default-GM.sf2 (default-GM.sf2) in auto mode\n",
            "update-alternatives: using /usr/share/sounds/sf2/FluidR3_GM.sf2 to provide /usr/share/sounds/sf3/default-GM.sf3 (default-GM.sf3) in auto mode\n",
            "Setting up timgm6mb-soundfont (1.3-5) ...\n",
            "Setting up libevdev2:amd64 (1.12.1+dfsg-1) ...\n",
            "Setting up libinstpatch-1.0-2:amd64 (1.1.6-1) ...\n",
            "Setting up libgudev-1.0-0:amd64 (1:237-2build1) ...\n",
            "Setting up libfluidsynth3:amd64 (2.2.5-1) ...\n",
            "Setting up libwacom-common (2.2.0-1) ...\n",
            "Setting up libwacom9:amd64 (2.2.0-1) ...\n",
            "Setting up libqt5network5:amd64 (5.15.3+dfsg-2ubuntu0.2) ...\n",
            "Setting up libinput-bin (1.20.0-1ubuntu0.3) ...\n",
            "Setting up fluidsynth (2.2.5-1) ...\n",
            "Created symlink /etc/systemd/user/default.target.wants/fluidsynth.service → /usr/lib/systemd/user/fluidsynth.service.\n",
            "Setting up libwacom-bin (2.2.0-1) ...\n",
            "Setting up libinput10:amd64 (1.20.0-1ubuntu0.3) ...\n",
            "Setting up libqt5gui5:amd64 (5.15.3+dfsg-2ubuntu0.2) ...\n",
            "Setting up libqt5widgets5:amd64 (5.15.3+dfsg-2ubuntu0.2) ...\n",
            "Setting up qt5-gtk-platformtheme:amd64 (5.15.3+dfsg-2ubuntu0.2) ...\n",
            "Setting up libqt5svg5:amd64 (5.15.3-1) ...\n",
            "Setting up qsynth (0.9.6-1) ...\n",
            "Processing triggers for mailcap (3.70+nmu1ubuntu1) ...\n",
            "Processing triggers for hicolor-icon-theme (0.17-2) ...\n",
            "Processing triggers for libc-bin (2.35-0ubuntu3.8) ...\n",
            "/sbin/ldconfig.real: /usr/local/lib/libtcm.so.1 is not a symbolic link\n",
            "\n",
            "/sbin/ldconfig.real: /usr/local/lib/libtbbbind.so.3 is not a symbolic link\n",
            "\n",
            "/sbin/ldconfig.real: /usr/local/lib/libtbb.so.12 is not a symbolic link\n",
            "\n",
            "/sbin/ldconfig.real: /usr/local/lib/libtbbmalloc.so.2 is not a symbolic link\n",
            "\n",
            "/sbin/ldconfig.real: /usr/local/lib/libur_adapter_level_zero.so.0 is not a symbolic link\n",
            "\n",
            "/sbin/ldconfig.real: /usr/local/lib/libur_loader.so.0 is not a symbolic link\n",
            "\n",
            "/sbin/ldconfig.real: /usr/local/lib/libtbbbind_2_0.so.3 is not a symbolic link\n",
            "\n",
            "/sbin/ldconfig.real: /usr/local/lib/libtbbbind_2_5.so.3 is not a symbolic link\n",
            "\n",
            "/sbin/ldconfig.real: /usr/local/lib/libtbbmalloc_proxy.so.2 is not a symbolic link\n",
            "\n",
            "/sbin/ldconfig.real: /usr/local/lib/libtcm_debug.so.1 is not a symbolic link\n",
            "\n",
            "/sbin/ldconfig.real: /usr/local/lib/libhwloc.so.15 is not a symbolic link\n",
            "\n",
            "/sbin/ldconfig.real: /usr/local/lib/libur_adapter_opencl.so.0 is not a symbolic link\n",
            "\n",
            "/sbin/ldconfig.real: /usr/local/lib/libumf.so.0 is not a symbolic link\n",
            "\n",
            "Processing triggers for man-db (2.10.2-1) ...\n"
          ]
        }
      ],
      "source": [
        "!sudo apt-get -qq install -y fluidsynth 2> /dev/null\n",
        "!pip install -qq pyfluidsynth scipy"
      ]
    },
    {
      "cell_type": "code",
      "source": [
        "import os\n",
        "import random\n",
        "import tempfile\n",
        "import numpy as np\n",
        "import keras\n",
        "import midi_neural_processor.processor as midi_tokenizer\n",
        "from keras import utils\n",
        "\n",
        "event_range = midi_tokenizer.RANGE_NOTE_ON\n",
        "event_range += midi_tokenizer.RANGE_NOTE_OFF\n",
        "event_range += midi_tokenizer.RANGE_TIME_SHIFT\n",
        "event_range += midi_tokenizer.RANGE_VEL\n",
        "CONFIG = utils.Config(\n",
        "    max_sequence_len=2048,\n",
        "    embedding_dim=256,\n",
        "    num_transformer_blocks=6,\n",
        "    batch_size=6,\n",
        "    token_pad=event_range,\n",
        "    token_start_of_sentence=event_range + 1,\n",
        "    token_end_of_sentence=event_range + 2,\n",
        "    vocabulary_size=event_range + 3,\n",
        "    model_out=\"tmp/music_transformer.keras\",\n",
        "    seed=42,\n",
        ")\n",
        "utils.set_random_seed(CONFIG.seed)\n",
        "\n",
        "# Define the MIDI dataset downloading function\n",
        "def download_maestro(output_dir=None):\n",
        "    \"\"\"Download the Maestro MIDI dataset.\"\"\"\n",
        "    output_dir = tempfile.mkdtemp() if output_dir is None else output_dir\n",
        "    os.makedirs(output_dir, exist_ok=True)\n",
        "\n",
        "    dir = utils.get_file(\n",
        "        origin=\"https://storage.googleapis.com/magentadata/datasets/maestro/v3.0.0/maestro-v3.0.0-midi.zip\",\n",
        "        extract=True,\n",
        "    )\n",
        "\n",
        "    midi_files, file_paths = set(), list()\n",
        "    for root, _, files in os.walk(dir):\n",
        "        for file in files:\n",
        "            if file.lower().endswith(\".midi\") or file.lower().endswith(\".mid\"):\n",
        "                midi_files.add(os.path.join(root, file))\n",
        "\n",
        "    for file in sorted(midi_files):\n",
        "        file_paths.append(new_path := os.path.join(output_dir, os.path.basename(file)))\n",
        "        os.rename(file, new_path)\n",
        "\n",
        "    return file_paths\n",
        "\n",
        "# Download the dataset\n",
        "paths = sorted(download_maestro(output_dir=\"datasets/maestro\"))\n",
        "output_dir = os.path.dirname(paths[0])\n",
        "\n",
        "# Split the dataset into train and validation sets\n",
        "indices = np.random.permutation(len(paths))\n",
        "split = int(len(paths) * 0.1)\n",
        "train_paths = [paths[i] for i in indices[split:]]\n",
        "val_paths = [paths[i] for i in indices[:split]]\n",
        "\n",
        "# Function to encode MIDI files into token sequences\n",
        "def encode_midi_files(midi_paths):\n",
        "    encoded_files = []\n",
        "    for path in midi_paths:\n",
        "        # Assuming encode_midi function from midi_tokenizer that converts a midi file to a sequence of MIDI events (tokens)\n",
        "        encoded_files.append(midi_tokenizer.encode_midi(path))\n",
        "    return encoded_files\n",
        "\n",
        "# Encoding the train and validation MIDI files\n",
        "train_midis = encode_midi_files(train_paths)\n",
        "val_midis = encode_midi_files(val_paths)\n",
        "\n",
        "# Define MidiDataset class as previously described\n",
        "class MidiDataset(utils.PyDataset):\n",
        "    \"\"\"A dataset for MIDI files that yields batches of input sequences and target sequences.\"\"\"\n",
        "\n",
        "    def __init__(\n",
        "        self,\n",
        "        encoded_midis,\n",
        "        batch_size=CONFIG.batch_size,\n",
        "        max_sequence_len=CONFIG.max_sequence_len,\n",
        "    ):\n",
        "        super(MidiDataset, self).__init__()\n",
        "        self.batch_size = batch_size\n",
        "        self.max_sequence_len = max_sequence_len\n",
        "        self.encoded_midis = encoded_midis\n",
        "        batches, last_batch_size = divmod(len(encoded_midis), batch_size)\n",
        "        self._num_batches = batches + int(last_batch_size > 0)\n",
        "\n",
        "    def __len__(self):\n",
        "        \"\"\"Get the number of batches.\"\"\"\n",
        "        return self._num_batches\n",
        "\n",
        "    def __getitem__(self, idx):\n",
        "        \"\"\"Generate random inputs and corresponding targets for the model.\"\"\"\n",
        "        batch = random.sample(self.encoded_midis, k=self.batch_size)\n",
        "\n",
        "        # Convert the batch to sequences\n",
        "        batch_data = [\n",
        "            self._get_sequence(midi, self.max_sequence_len + 1) for midi in batch\n",
        "        ]\n",
        "        batch_data = np.array(batch_data)\n",
        "\n",
        "        # Split the data into input and target sequences\n",
        "        return batch_data[:, :-1], batch_data[:, 1:]\n",
        "\n",
        "    def _get_sequence(self, data, max_length):\n",
        "        \"\"\"Get a random sequence of notes from a file.\"\"\"\n",
        "        if len(data) > max_length:\n",
        "            start = random.randrange(0, len(data) - max_length)\n",
        "            data = data[start : start + max_length]\n",
        "        elif len(data) < max_length:\n",
        "            data = np.append(data, CONFIG.token_end_of_sentence)\n",
        "\n",
        "        if len(data) < max_length:\n",
        "            data = np.concatenate(\n",
        "                (data, np.full(max_length - len(data), CONFIG.token_pad))\n",
        "            )\n",
        "        return np.asanyarray(data, dtype=\"int32\")\n",
        "\n",
        "# Initialize the MidiDataset objects with the encoded data\n",
        "train_dataset, val_dataset = MidiDataset(train_midis), MidiDataset(val_midis)\n",
        "\n"
      ],
      "metadata": {
        "id": "9vT7tGatO1Qm",
        "colab": {
          "base_uri": "https://localhost:8080/"
        },
        "outputId": "47455d83-6fd7-4ba5-9458-dbe6387115b1"
      },
      "execution_count": null,
      "outputs": [
        {
          "output_type": "stream",
          "name": "stdout",
          "text": [
            "Downloading data from https://storage.googleapis.com/magentadata/datasets/maestro/v3.0.0/maestro-v3.0.0-midi.zip\n",
            "\u001b[1m58416533/58416533\u001b[0m \u001b[32m━━━━━━━━━━━━━━━━━━━━\u001b[0m\u001b[37m\u001b[0m \u001b[1m4s\u001b[0m 0us/step\n"
          ]
        }
      ]
    },
    {
      "cell_type": "code",
      "source": [
        "type(train_dataset)"
      ],
      "metadata": {
        "id": "VWpztbQpOWoD",
        "colab": {
          "base_uri": "https://localhost:8080/",
          "height": 104
        },
        "outputId": "b2918c3e-75f4-48c7-fdf9-f6fcd53f0a49"
      },
      "execution_count": null,
      "outputs": [
        {
          "output_type": "execute_result",
          "data": {
            "text/plain": [
              "__main__.MidiDataset"
            ],
            "text/html": [
              "<div style=\"max-width:800px; border: 1px solid var(--colab-border-color);\"><style>\n",
              "      pre.function-repr-contents {\n",
              "        overflow-x: auto;\n",
              "        padding: 8px 12px;\n",
              "        max-height: 500px;\n",
              "      }\n",
              "\n",
              "      pre.function-repr-contents.function-repr-contents-collapsed {\n",
              "        cursor: pointer;\n",
              "        max-height: 100px;\n",
              "      }\n",
              "    </style>\n",
              "    <pre style=\"white-space: initial; background:\n",
              "         var(--colab-secondary-surface-color); padding: 8px 12px;\n",
              "         border-bottom: 1px solid var(--colab-border-color);\"><b>MidiDataset</b><br/>def __init__(encoded_midis, batch_size=CONFIG.batch_size, max_sequence_len=CONFIG.max_sequence_len)</pre><pre class=\"function-repr-contents function-repr-contents-collapsed\" style=\"\"><a class=\"filepath\" style=\"display:none\" href=\"#\"></a>A dataset for MIDI files that yields batches of input sequences and target sequences.</pre></div>"
            ]
          },
          "metadata": {},
          "execution_count": 4
        }
      ]
    },
    {
      "cell_type": "code",
      "source": [
        "from keras import callbacks, layers, ops, optimizers, utils\n"
      ],
      "metadata": {
        "id": "yehUZYx6Mf1l"
      },
      "execution_count": null,
      "outputs": []
    },
    {
      "cell_type": "code",
      "execution_count": null,
      "metadata": {
        "id": "-2f64hxUcVqN"
      },
      "outputs": [],
      "source": [
        "\n",
        "@keras.utils.register_keras_serializable()\n",
        "class RelativeGlobalAttention(layers.Layer):\n",
        "    \"\"\"\n",
        "    From Music Transformer (Huang et al., 2018)\n",
        "    https://arxiv.org/abs/1809.04281\n",
        "    \"\"\"\n",
        "\n",
        "    def __init__(self, num_heads, embedding_dim, max_sequence_len, **kwargs):\n",
        "        super().__init__(**kwargs)\n",
        "        self.key_length = None\n",
        "        self.max_sequence_len = max_sequence_len\n",
        "        self.relative_embedding = None\n",
        "        self.num_heads = num_heads\n",
        "        self.embedding_dim = embedding_dim\n",
        "        self.head_dim = embedding_dim // num_heads\n",
        "        self.query_dense = layers.Dense(int(self.embedding_dim))\n",
        "        self.key_dense = layers.Dense(int(self.embedding_dim))\n",
        "        self.value_dense = layers.Dense(int(self.embedding_dim))\n",
        "        self.output_dense = layers.Dense(embedding_dim, name=\"output\")\n",
        "\n",
        "    def build(self, input_shape):\n",
        "        self.query_length = input_shape[0][1]\n",
        "        self.key_length = input_shape[1][1]\n",
        "        self.relative_embedding = self.add_weight(\n",
        "            (self.max_sequence_len, int(self.head_dim)), name=\"relative_embedding\"\n",
        "        )\n",
        "\n",
        "    def _apply_dense_layer_and_split_heads(self, inputs, dense_layer):\n",
        "        # Apply linear transformation\n",
        "        inputs = dense_layer(inputs)\n",
        "        new_shape = ops.shape(inputs)\n",
        "        # Reshape to split by attention heads\n",
        "        reshaped = ops.reshape(inputs, (new_shape[0], new_shape[1], self.num_heads, -1))\n",
        "        # Transpose for head-first format\n",
        "        return ops.transpose(reshaped, (0, 2, 1, 3))\n",
        "\n",
        "    def call(self, inputs, mask=None):\n",
        "        # Compute Q, K, V: Batch, head, sequence, features\n",
        "        query = self._apply_dense_layer_and_split_heads(inputs[0], self.query_dense)\n",
        "        key = self._apply_dense_layer_and_split_heads(inputs[1], self.key_dense)\n",
        "        value = self._apply_dense_layer_and_split_heads(inputs[2], self.value_dense)\n",
        "\n",
        "        # Compute scaled dot-product attention scores\n",
        "        attention_scores = ops.matmul(query, ops.transpose(key, [0, 1, 3, 2]))\n",
        "\n",
        "        # Compute relative positional encoding and combine with attention scores\n",
        "        start_idx = max(0, self.max_sequence_len - ops.shape(query)[2])\n",
        "        relative_embedding = self.relative_embedding[start_idx:, :]\n",
        "        attention_scores += self._compute_attention_scores(query, relative_embedding)\n",
        "        logits = attention_scores / ops.sqrt(self.head_dim)\n",
        "\n",
        "        # Apply mask if provided\n",
        "        if mask is not None:\n",
        "            logits += ops.cast(mask, \"float32\") * -1e9\n",
        "\n",
        "        # Compute attention weights\n",
        "        attention_weights = ops.nn.softmax(logits, axis=-1)\n",
        "        attention_output = ops.matmul(attention_weights, value)\n",
        "\n",
        "        # Merge heads and apply final linear transformation\n",
        "        merged_attention = ops.transpose(attention_output, (0, 2, 1, 3))\n",
        "        merged_attention = ops.reshape(\n",
        "            merged_attention, (ops.shape(merged_attention)[0], -1, self.embedding_dim)\n",
        "        )\n",
        "        output = self.output_dense(merged_attention)\n",
        "\n",
        "        return output, attention_weights\n",
        "\n",
        "    def _compute_attention_scores(self, query, relative_embedding):\n",
        "        \"\"\"\n",
        "        Compute relative attention scores using positional encodings.\n",
        "        \"\"\"\n",
        "        relative_scores = ops.einsum(\"bhld, md->bhlm\", query, relative_embedding)\n",
        "        relative_scores = self._apply_mask_to_relative_scores(relative_scores)\n",
        "        return self._skew_attention_scores(relative_scores)\n",
        "\n",
        "    def _apply_mask_to_relative_scores(self, scores):\n",
        "        \"\"\"\n",
        "        Apply masking to relative positional scores to ignore future positions.\n",
        "        \"\"\"\n",
        "        mask = ops.flip(\n",
        "            ops.tri(scores.shape[-2], scores.shape[-1], dtype=\"float32\"), axis=1\n",
        "        )\n",
        "        return mask * scores\n",
        "\n",
        "    def _skew_attention_scores(self, scores):\n",
        "        \"\"\"\n",
        "        Perform skewing operation to align relative attention scores with the sequence.\n",
        "        \"\"\"\n",
        "        padded_scores = ops.pad(scores, ((0, 0), (0, 0), (0, 0), (1, 0)))\n",
        "        padded_shape = ops.shape(padded_scores)\n",
        "        reshaped_scores = ops.reshape(\n",
        "            padded_scores, (-1, padded_shape[1], padded_shape[-1], padded_shape[-2])\n",
        "        )\n",
        "        skewed_scores = reshaped_scores[:, :, 1:, :]\n",
        "\n",
        "        if self.key_length > self.query_length:\n",
        "            size_diff = self.key_length - self.query_length\n",
        "            return ops.pad(skewed_scores, [[0, 0], [0, 0], [0, 0], [0, size_diff]])\n",
        "        else:\n",
        "            return skewed_scores[:, :, :, : self.key_length]\n"
      ]
    },
    {
      "cell_type": "code",
      "execution_count": null,
      "metadata": {
        "id": "tSL8dywdcVqN"
      },
      "outputs": [],
      "source": [
        "\n",
        "@keras.utils.register_keras_serializable()\n",
        "class DecoderLayer(layers.Layer):\n",
        "    def __init__(self, embedding_dim, num_heads, max_sequence_len, dropout=0.1):\n",
        "        super(DecoderLayer, self).__init__()\n",
        "\n",
        "        # Initialize attributes\n",
        "        self.embedding_dim = embedding_dim\n",
        "        self.num_heads = num_heads\n",
        "        self.max_sequence_len = max_sequence_len\n",
        "\n",
        "        # Initialize layers\n",
        "        self.relative_global_attention_1 = RelativeGlobalAttention(\n",
        "            num_heads, embedding_dim, max_sequence_len\n",
        "        )\n",
        "\n",
        "        self.feed_forward_network_pre = layers.Dense(self.embedding_dim // 2, \"relu\")\n",
        "        self.feed_forward_network_pos = layers.Dense(self.embedding_dim)\n",
        "\n",
        "        self.layer_normalization_1 = layers.LayerNormalization(epsilon=1e-6)\n",
        "        self.layer_normalization_2 = layers.LayerNormalization(epsilon=1e-6)\n",
        "\n",
        "        self.dropout_1 = layers.Dropout(dropout)\n",
        "        self.dropout_2 = layers.Dropout(dropout)\n",
        "\n",
        "    def call(self, inputs, mask=None, training=False):\n",
        "        # Attention block. Inputs are (query, key, value)\n",
        "        attention_out, attention_weights = self.relative_global_attention_1(\n",
        "            (inputs, inputs, inputs), mask=mask\n",
        "        )\n",
        "        attention_out = self.dropout_1(attention_out, training=training)\n",
        "        attention_out_normalized = self.layer_normalization_1(attention_out + inputs)\n",
        "\n",
        "        ffn_out = self.feed_forward_network_pre(attention_out)\n",
        "        ffn_out = self.feed_forward_network_pos(ffn_out)\n",
        "        ffn_out = self.dropout_2(ffn_out, training=training)\n",
        "        out = self.layer_normalization_2(attention_out_normalized + ffn_out)\n",
        "\n",
        "        return out, attention_weights\n"
      ]
    },
    {
      "cell_type": "code",
      "source": [
        "from keras_hub import layers as hub_layers\n"
      ],
      "metadata": {
        "id": "gtpXdOeAQXkF"
      },
      "execution_count": null,
      "outputs": []
    },
    {
      "cell_type": "code",
      "execution_count": null,
      "metadata": {
        "id": "ZYAJv6sDcVqN"
      },
      "outputs": [],
      "source": [
        "\n",
        "@keras.utils.register_keras_serializable()\n",
        "class Decoder(layers.Layer):\n",
        "    def __init__(\n",
        "        self, embedding_dim, vocabulary_size, max_sequence_len, num_blocks, dropout\n",
        "    ):\n",
        "        super(Decoder, self).__init__()\n",
        "\n",
        "        self.embedding_dim = embedding_dim\n",
        "        self.num_blocks = num_blocks\n",
        "\n",
        "        self.embedding = layers.Embedding(vocabulary_size, self.embedding_dim)\n",
        "        self.positional_encoding = hub_layers.SinePositionEncoding()\n",
        "\n",
        "        self.decode_layers = [\n",
        "            DecoderLayer(\n",
        "                embedding_dim, embedding_dim // 64, max_sequence_len, dropout=dropout\n",
        "            )\n",
        "            for _ in range(num_blocks)\n",
        "        ]\n",
        "        self.dropout = layers.Dropout(dropout)\n",
        "\n",
        "    def call(self, inputs, mask=None, training=False, return_attention_weights=False):\n",
        "        weights = []\n",
        "\n",
        "        # Adding embedding and position encoding.\n",
        "        x = self.embedding(inputs)\n",
        "        x = x * ops.sqrt(ops.cast(self.embedding_dim, \"float32\"))\n",
        "        x = x + self.positional_encoding(x)\n",
        "        x = self.dropout(x, training=training)\n",
        "\n",
        "        # Passing through the transformer blocks.\n",
        "        for i in range(self.num_blocks):\n",
        "            x, w = self.decode_layers[i](x, mask=mask, training=training)\n",
        "            weights.append(w)\n",
        "        if return_attention_weights:\n",
        "            return x, weights\n",
        "        return x\n"
      ]
    },
    {
      "cell_type": "code",
      "execution_count": null,
      "metadata": {
        "id": "ee1b3eGUcVqN"
      },
      "outputs": [],
      "source": [
        "\n",
        "@keras.utils.register_keras_serializable()\n",
        "class MusicTransformerDecoder(keras.Model):\n",
        "    def __init__(\n",
        "        self,\n",
        "        embedding_dim=CONFIG.embedding_dim,\n",
        "        vocabulary_size=CONFIG.vocabulary_size,\n",
        "        num_blocks=CONFIG.num_transformer_blocks,\n",
        "        max_sequence_len=CONFIG.max_sequence_len,\n",
        "        dropout=0.2,\n",
        "    ):\n",
        "        # Initialize attributes\n",
        "        super(MusicTransformerDecoder, self).__init__()\n",
        "        self.embedding_dim = embedding_dim\n",
        "        self.vocabulary_size = vocabulary_size\n",
        "        self.num_blocks = num_blocks\n",
        "        self.max_sequence_len = max_sequence_len\n",
        "\n",
        "        # Initialize layers\n",
        "        # Transformer decoder\n",
        "        self.decoder = Decoder(\n",
        "            embedding_dim, vocabulary_size, max_sequence_len, num_blocks, dropout\n",
        "        )\n",
        "        # Output layer\n",
        "        self.fc = layers.Dense(self.vocabulary_size, activation=None, name=\"output\")\n",
        "\n",
        "    @staticmethod\n",
        "    def get_look_ahead_mask(max_sequence_len, inputs):\n",
        "        sequence_length = min(max_sequence_len, inputs.shape[1])\n",
        "        sequence_mask = ops.logical_not(\n",
        "            ops.tri(sequence_length, sequence_length, dtype=\"bool\")\n",
        "        )\n",
        "\n",
        "        inputs = ops.cast(inputs[:, None, None, :], \"int32\")\n",
        "        output_pad_tensor = ops.ones_like(inputs) * CONFIG.token_pad\n",
        "        decoder_output_mask = ops.equal(inputs, output_pad_tensor)\n",
        "        return ops.cast(ops.logical_or(decoder_output_mask, sequence_mask), \"int32\")\n",
        "\n",
        "    def call(self, inputs, training=False):\n",
        "        mask = self.get_look_ahead_mask(self.max_sequence_len, inputs)\n",
        "        decoding = self.decoder(\n",
        "            inputs, mask=mask, training=training, return_attention_weights=False\n",
        "        )\n",
        "        return self.fc(decoding)\n",
        "\n",
        "    # --- Sequence generation methods\n",
        "\n",
        "    def generate(self, inputs: list, length=CONFIG.max_sequence_len, top_k=5):\n",
        "        inputs = ops.convert_to_tensor([inputs])\n",
        "\n",
        "        # Generate a new token using output distribution at given index\n",
        "        def generate_token(inputs, end_idx):\n",
        "            distribution = ops.stop_gradient(self.call(inputs)[0, end_idx])\n",
        "\n",
        "            # Select the top-k tokens and their probabilities\n",
        "            top_k_distribution, top_k_indices = ops.top_k(distribution, k=top_k)\n",
        "\n",
        "            # Sample from the top-k probabilities\n",
        "            new_token_idx = keras.random.categorical(top_k_distribution[None, :], 1)\n",
        "            return ops.take(top_k_indices, new_token_idx[0])\n",
        "\n",
        "        # Compute the number of tokens to add\n",
        "        added_tokens = min(length, self.max_sequence_len - inputs.shape[1])\n",
        "        progbar = utils.Progbar(added_tokens, unit_name=\"token\", interval=5)\n",
        "\n",
        "        # Pad the input sequence that will be filled with generated tokens\n",
        "        out = ops.pad(inputs, ((0, 0), (0, added_tokens)), \"constant\", CONFIG.token_pad)\n",
        "\n",
        "        # Generate tokens using top-k sampling\n",
        "        for token_idx in range(inputs.shape[1] - 1, inputs.shape[1] - 1 + added_tokens):\n",
        "            token = ops.cast(generate_token(out, end_idx=token_idx), out.dtype)\n",
        "            out = ops.scatter_update(out, ((0, token_idx + 1),), token)\n",
        "            progbar.add(1)\n",
        "\n",
        "        return ops.convert_to_numpy(out[0])\n",
        "\n",
        "    # --- Serialization methods\n",
        "\n",
        "    def get_config(self):\n",
        "        atts = [\"embedding_dim\", \"vocabulary_size\", \"num_blocks\", \"max_sequence_len\"]\n",
        "        return {a: getattr(self, a) for a in atts}\n",
        "\n",
        "    @classmethod\n",
        "    def from_config(cls, config):\n",
        "        return cls(**config)\n"
      ]
    },
    {
      "cell_type": "code",
      "execution_count": null,
      "metadata": {
        "id": "miHeSUH_cVqO"
      },
      "outputs": [],
      "source": [
        "\n",
        "@keras.utils.register_keras_serializable()\n",
        "def train_loss(y_true, y_pred):\n",
        "    mask = ops.cast(ops.logical_not(ops.equal(y_true, CONFIG.token_pad)), \"float32\")\n",
        "    y_true = ops.one_hot(ops.cast(y_true, \"int32\"), CONFIG.vocabulary_size)\n",
        "    return ops.categorical_crossentropy(y_true, y_pred, from_logits=True) * mask\n"
      ]
    },
    {
      "cell_type": "code",
      "execution_count": null,
      "metadata": {
        "id": "Xdrqtm6ocVqO"
      },
      "outputs": [],
      "source": [
        "\n",
        "@keras.utils.register_keras_serializable()\n",
        "class CustomSchedule(optimizers.schedules.LearningRateSchedule):\n",
        "    def __init__(self, embedding_dim, warmup_steps=4000):\n",
        "        super(CustomSchedule, self).__init__()\n",
        "\n",
        "        self.embedding_dim = embedding_dim\n",
        "        self.warmup_steps = warmup_steps\n",
        "\n",
        "        self._embedding_dim = ops.cast(self.embedding_dim, \"float32\")\n",
        "        # Numerical stability adjustment on torch, which is less precise\n",
        "        self._lr_adjust = 0.1 if keras.backend.backend() == \"torch\" else 1.0\n",
        "\n",
        "    def get_config(self):\n",
        "        return {\"embedding_dim\": self.embedding_dim, \"warmup_steps\": self.warmup_steps}\n",
        "\n",
        "    def __call__(self, step):\n",
        "        step_rsqrt = ops.rsqrt(ops.cast(step, \"float32\"))\n",
        "        warmup_adjust = step * (self.warmup_steps**-1.5)\n",
        "        output = ops.rsqrt(self._embedding_dim) * ops.minimum(step_rsqrt, warmup_adjust)\n",
        "        return self._lr_adjust * output\n"
      ]
    },
    {
      "cell_type": "code",
      "execution_count": null,
      "metadata": {
        "id": "yaGNkvuTcVqO"
      },
      "outputs": [],
      "source": [
        "\n",
        "def train_model(model, train_ds, val_ds, epochs=15):\n",
        "    # Configure optimizer\n",
        "    learning_rate = CustomSchedule(CONFIG.embedding_dim)\n",
        "    optimizer = optimizers.Adam(learning_rate, beta_1=0.9, beta_2=0.98, epsilon=1e-9)\n",
        "\n",
        "    # Compile the model\n",
        "    model.compile(optimizer=optimizer, loss=train_loss)\n",
        "\n",
        "    # Train the model\n",
        "    save_cb = callbacks.ModelCheckpoint(CONFIG.model_out, save_best_only=True)\n",
        "    model.fit(\n",
        "        train_ds, validation_data=val_ds, epochs=epochs, callbacks=[save_cb], verbose=2\n",
        "    )\n",
        "    return model\n"
      ]
    },
    {
      "cell_type": "code",
      "execution_count": null,
      "metadata": {
        "id": "Hgo1rkRbcVqO"
      },
      "outputs": [],
      "source": [
        "import matplotlib.pyplot as plt\n",
        "from keras import callbacks, optimizers\n",
        "from os import path\n",
        "\n",
        "# CustomSchedule, train_loss\n",
        "\n",
        "def train_model(model, train_ds, val_ds, epochs=15):\n",
        "    # Configure optimizer\n",
        "    learning_rate = CustomSchedule(CONFIG.embedding_dim)\n",
        "    optimizer = optimizers.Adam(learning_rate, beta_1=0.9, beta_2=0.98, epsilon=1e-9)\n",
        "\n",
        "    # Compile the model\n",
        "    model.compile(optimizer=optimizer, loss=train_loss)\n",
        "\n",
        "    # Callbacks\n",
        "    checkpoint_cb = callbacks.ModelCheckpoint(CONFIG.model_out, save_best_only=True)\n",
        "    early_stop_cb = callbacks.EarlyStopping(\n",
        "        monitor='val_loss', patience=3, restore_best_weights=True\n",
        "    )\n",
        "\n",
        "    # Train the model\n",
        "    history = model.fit(\n",
        "        train_ds,\n",
        "        validation_data=val_ds,\n",
        "        epochs=epochs,\n",
        "        callbacks=[checkpoint_cb, early_stop_cb],\n",
        "        verbose=2,\n",
        "    )\n",
        "    return model, history\n",
        "\n",
        "\n",
        "\n",
        "\n"
      ]
    },
    {
      "cell_type": "code",
      "source": [
        "\n",
        "# Train or load model\n",
        "if path.exists(CONFIG.model_out):\n",
        "    model = keras.models.load_model(CONFIG.model_out)\n",
        "    model, history = train_model(model, train_dataset, val_dataset, epochs=100)\n",
        "else:\n",
        "    model, history = train_model(MusicTransformerDecoder(), train_dataset, val_dataset, epochs=100)"
      ],
      "metadata": {
        "colab": {
          "base_uri": "https://localhost:8080/"
        },
        "id": "3Jmf87n_Q7K9",
        "outputId": "9d5dbb7f-16f4-4033-af02-d529c0b09da2"
      },
      "execution_count": null,
      "outputs": [
        {
          "output_type": "stream",
          "name": "stdout",
          "text": [
            "Epoch 1/100\n",
            "192/192 - 147s - 764ms/step - loss: 5.5899 - val_loss: 5.0263\n",
            "Epoch 2/100\n",
            "192/192 - 101s - 527ms/step - loss: 4.9713 - val_loss: 4.9181\n",
            "Epoch 3/100\n",
            "192/192 - 102s - 529ms/step - loss: 4.6651 - val_loss: 4.2049\n",
            "Epoch 4/100\n",
            "192/192 - 102s - 529ms/step - loss: 4.1117 - val_loss: 4.0190\n",
            "Epoch 5/100\n",
            "192/192 - 143s - 745ms/step - loss: 3.9771 - val_loss: 3.9112\n",
            "Epoch 6/100\n",
            "192/192 - 102s - 531ms/step - loss: 3.8713 - val_loss: 3.7980\n",
            "Epoch 7/100\n",
            "192/192 - 103s - 536ms/step - loss: 3.7554 - val_loss: 3.6447\n",
            "Epoch 8/100\n",
            "192/192 - 102s - 532ms/step - loss: 3.6230 - val_loss: 3.4408\n",
            "Epoch 9/100\n",
            "192/192 - 102s - 532ms/step - loss: 3.3693 - val_loss: 3.2412\n",
            "Epoch 10/100\n",
            "192/192 - 102s - 531ms/step - loss: 3.2184 - val_loss: 3.1422\n",
            "Epoch 11/100\n",
            "192/192 - 103s - 536ms/step - loss: 3.1228 - val_loss: 3.0535\n",
            "Epoch 12/100\n",
            "192/192 - 102s - 531ms/step - loss: 3.0914 - val_loss: 3.0104\n",
            "Epoch 13/100\n",
            "192/192 - 102s - 532ms/step - loss: 3.0038 - val_loss: 2.9697\n",
            "Epoch 14/100\n",
            "192/192 - 102s - 531ms/step - loss: 2.9870 - val_loss: 2.9176\n",
            "Epoch 15/100\n",
            "192/192 - 102s - 532ms/step - loss: 2.9358 - val_loss: 2.8351\n",
            "Epoch 16/100\n",
            "192/192 - 102s - 532ms/step - loss: 2.8924 - val_loss: 2.7872\n",
            "Epoch 17/100\n",
            "192/192 - 103s - 537ms/step - loss: 2.8374 - val_loss: 2.7553\n",
            "Epoch 18/100\n",
            "192/192 - 102s - 532ms/step - loss: 2.8023 - val_loss: 2.7207\n",
            "Epoch 19/100\n",
            "192/192 - 102s - 530ms/step - loss: 2.7603 - val_loss: 2.6324\n",
            "Epoch 20/100\n",
            "192/192 - 143s - 746ms/step - loss: 2.6967 - val_loss: 2.6264\n",
            "Epoch 21/100\n",
            "192/192 - 102s - 530ms/step - loss: 2.6743 - val_loss: 2.5795\n",
            "Epoch 22/100\n",
            "192/192 - 103s - 536ms/step - loss: 2.6393 - val_loss: 2.5697\n",
            "Epoch 23/100\n",
            "192/192 - 102s - 530ms/step - loss: 2.5972 - val_loss: 2.5469\n",
            "Epoch 24/100\n",
            "192/192 - 103s - 536ms/step - loss: 2.5633 - val_loss: 2.4440\n",
            "Epoch 25/100\n",
            "192/192 - 101s - 528ms/step - loss: 2.5506 - val_loss: 2.4639\n",
            "Epoch 26/100\n",
            "192/192 - 102s - 531ms/step - loss: 2.5261 - val_loss: 2.4303\n",
            "Epoch 27/100\n",
            "192/192 - 102s - 531ms/step - loss: 2.5034 - val_loss: 2.4084\n",
            "Epoch 28/100\n",
            "192/192 - 102s - 531ms/step - loss: 2.4786 - val_loss: 2.3802\n",
            "Epoch 29/100\n",
            "192/192 - 102s - 532ms/step - loss: 2.4599 - val_loss: 2.3779\n",
            "Epoch 30/100\n",
            "192/192 - 102s - 530ms/step - loss: 2.4324 - val_loss: 2.3469\n",
            "Epoch 31/100\n",
            "192/192 - 102s - 532ms/step - loss: 2.4253 - val_loss: 2.3452\n",
            "Epoch 32/100\n",
            "192/192 - 102s - 532ms/step - loss: 2.4192 - val_loss: 2.3378\n",
            "Epoch 33/100\n",
            "192/192 - 102s - 530ms/step - loss: 2.3982 - val_loss: 2.3299\n",
            "Epoch 34/100\n",
            "192/192 - 102s - 529ms/step - loss: 2.4008 - val_loss: 2.3187\n",
            "Epoch 35/100\n",
            "192/192 - 102s - 529ms/step - loss: 2.3788 - val_loss: 2.3175\n",
            "Epoch 36/100\n",
            "192/192 - 101s - 527ms/step - loss: 2.3807 - val_loss: 2.3339\n",
            "Epoch 37/100\n",
            "192/192 - 102s - 533ms/step - loss: 2.3813 - val_loss: 2.2786\n",
            "Epoch 38/100\n",
            "192/192 - 101s - 528ms/step - loss: 2.3533 - val_loss: 2.2963\n",
            "Epoch 39/100\n",
            "192/192 - 102s - 532ms/step - loss: 2.3361 - val_loss: 2.2608\n",
            "Epoch 40/100\n",
            "192/192 - 143s - 743ms/step - loss: 2.3290 - val_loss: 2.2756\n",
            "Epoch 41/100\n",
            "192/192 - 102s - 530ms/step - loss: 2.3292 - val_loss: 2.2227\n",
            "Epoch 42/100\n",
            "192/192 - 101s - 528ms/step - loss: 2.3245 - val_loss: 2.2917\n",
            "Epoch 43/100\n",
            "192/192 - 143s - 746ms/step - loss: 2.3105 - val_loss: 2.2306\n",
            "Epoch 44/100\n",
            "192/192 - 101s - 529ms/step - loss: 2.3058 - val_loss: 2.2410\n"
          ]
        }
      ]
    },
    {
      "cell_type": "code",
      "source": [
        "model.summary()"
      ],
      "metadata": {
        "id": "kJQ4Z7CHU_qq",
        "colab": {
          "base_uri": "https://localhost:8080/",
          "height": 209
        },
        "outputId": "4665fc47-129e-497d-e759-276b4b531532"
      },
      "execution_count": null,
      "outputs": [
        {
          "output_type": "display_data",
          "data": {
            "text/plain": [
              "\u001b[1mModel: \"music_transformer_decoder\"\u001b[0m\n"
            ],
            "text/html": [
              "<pre style=\"white-space:pre;overflow-x:auto;line-height:normal;font-family:Menlo,'DejaVu Sans Mono',consolas,'Courier New',monospace\"><span style=\"font-weight: bold\">Model: \"music_transformer_decoder\"</span>\n",
              "</pre>\n"
            ]
          },
          "metadata": {}
        },
        {
          "output_type": "display_data",
          "data": {
            "text/plain": [
              "┏━━━━━━━━━━━━━━━━━━━━━━━━━━━━━━━━━┳━━━━━━━━━━━━━━━━━━━━━━━━┳━━━━━━━━━━━━━━━┓\n",
              "┃\u001b[1m \u001b[0m\u001b[1mLayer (type)                   \u001b[0m\u001b[1m \u001b[0m┃\u001b[1m \u001b[0m\u001b[1mOutput Shape          \u001b[0m\u001b[1m \u001b[0m┃\u001b[1m \u001b[0m\u001b[1m      Param #\u001b[0m\u001b[1m \u001b[0m┃\n",
              "┡━━━━━━━━━━━━━━━━━━━━━━━━━━━━━━━━━╇━━━━━━━━━━━━━━━━━━━━━━━━╇━━━━━━━━━━━━━━━┩\n",
              "│ decoder (\u001b[38;5;33mDecoder\u001b[0m)               │ ?                      │     \u001b[38;5;34m2,867,200\u001b[0m │\n",
              "├─────────────────────────────────┼────────────────────────┼───────────────┤\n",
              "│ output (\u001b[38;5;33mDense\u001b[0m)                  │ (\u001b[38;5;45mNone\u001b[0m, \u001b[38;5;34m2048\u001b[0m, \u001b[38;5;34m391\u001b[0m)      │       \u001b[38;5;34m100,487\u001b[0m │\n",
              "└─────────────────────────────────┴────────────────────────┴───────────────┘\n"
            ],
            "text/html": [
              "<pre style=\"white-space:pre;overflow-x:auto;line-height:normal;font-family:Menlo,'DejaVu Sans Mono',consolas,'Courier New',monospace\">┏━━━━━━━━━━━━━━━━━━━━━━━━━━━━━━━━━┳━━━━━━━━━━━━━━━━━━━━━━━━┳━━━━━━━━━━━━━━━┓\n",
              "┃<span style=\"font-weight: bold\"> Layer (type)                    </span>┃<span style=\"font-weight: bold\"> Output Shape           </span>┃<span style=\"font-weight: bold\">       Param # </span>┃\n",
              "┡━━━━━━━━━━━━━━━━━━━━━━━━━━━━━━━━━╇━━━━━━━━━━━━━━━━━━━━━━━━╇━━━━━━━━━━━━━━━┩\n",
              "│ decoder (<span style=\"color: #0087ff; text-decoration-color: #0087ff\">Decoder</span>)               │ ?                      │     <span style=\"color: #00af00; text-decoration-color: #00af00\">2,867,200</span> │\n",
              "├─────────────────────────────────┼────────────────────────┼───────────────┤\n",
              "│ output (<span style=\"color: #0087ff; text-decoration-color: #0087ff\">Dense</span>)                  │ (<span style=\"color: #00d7ff; text-decoration-color: #00d7ff\">None</span>, <span style=\"color: #00af00; text-decoration-color: #00af00\">2048</span>, <span style=\"color: #00af00; text-decoration-color: #00af00\">391</span>)      │       <span style=\"color: #00af00; text-decoration-color: #00af00\">100,487</span> │\n",
              "└─────────────────────────────────┴────────────────────────┴───────────────┘\n",
              "</pre>\n"
            ]
          },
          "metadata": {}
        },
        {
          "output_type": "display_data",
          "data": {
            "text/plain": [
              "\u001b[1m Total params: \u001b[0m\u001b[38;5;34m8,903,062\u001b[0m (33.96 MB)\n"
            ],
            "text/html": [
              "<pre style=\"white-space:pre;overflow-x:auto;line-height:normal;font-family:Menlo,'DejaVu Sans Mono',consolas,'Courier New',monospace\"><span style=\"font-weight: bold\"> Total params: </span><span style=\"color: #00af00; text-decoration-color: #00af00\">8,903,062</span> (33.96 MB)\n",
              "</pre>\n"
            ]
          },
          "metadata": {}
        },
        {
          "output_type": "display_data",
          "data": {
            "text/plain": [
              "\u001b[1m Trainable params: \u001b[0m\u001b[38;5;34m2,967,687\u001b[0m (11.32 MB)\n"
            ],
            "text/html": [
              "<pre style=\"white-space:pre;overflow-x:auto;line-height:normal;font-family:Menlo,'DejaVu Sans Mono',consolas,'Courier New',monospace\"><span style=\"font-weight: bold\"> Trainable params: </span><span style=\"color: #00af00; text-decoration-color: #00af00\">2,967,687</span> (11.32 MB)\n",
              "</pre>\n"
            ]
          },
          "metadata": {}
        },
        {
          "output_type": "display_data",
          "data": {
            "text/plain": [
              "\u001b[1m Non-trainable params: \u001b[0m\u001b[38;5;34m0\u001b[0m (0.00 B)\n"
            ],
            "text/html": [
              "<pre style=\"white-space:pre;overflow-x:auto;line-height:normal;font-family:Menlo,'DejaVu Sans Mono',consolas,'Courier New',monospace\"><span style=\"font-weight: bold\"> Non-trainable params: </span><span style=\"color: #00af00; text-decoration-color: #00af00\">0</span> (0.00 B)\n",
              "</pre>\n"
            ]
          },
          "metadata": {}
        },
        {
          "output_type": "display_data",
          "data": {
            "text/plain": [
              "\u001b[1m Optimizer params: \u001b[0m\u001b[38;5;34m5,935,375\u001b[0m (22.64 MB)\n"
            ],
            "text/html": [
              "<pre style=\"white-space:pre;overflow-x:auto;line-height:normal;font-family:Menlo,'DejaVu Sans Mono',consolas,'Courier New',monospace\"><span style=\"font-weight: bold\"> Optimizer params: </span><span style=\"color: #00af00; text-decoration-color: #00af00\">5,935,375</span> (22.64 MB)\n",
              "</pre>\n"
            ]
          },
          "metadata": {}
        }
      ]
    },
    {
      "cell_type": "code",
      "source": [
        "# Plotting training and validation loss\n",
        "plt.plot(history.history['loss'], label='Training Loss')\n",
        "plt.plot(history.history['val_loss'], label='Validation Loss')\n",
        "plt.xlabel(\"Epoch\")\n",
        "plt.ylabel(\"Loss\")\n",
        "plt.title(\"Training vs Validation Loss\")\n",
        "plt.legend()\n",
        "plt.grid(True)\n",
        "plt.show()"
      ],
      "metadata": {
        "id": "z4-V67fUQ4I4",
        "colab": {
          "base_uri": "https://localhost:8080/",
          "height": 472
        },
        "outputId": "dfd791d7-f87b-41ee-c656-a0acb38d5c8b"
      },
      "execution_count": null,
      "outputs": [
        {
          "output_type": "display_data",
          "data": {
            "text/plain": [
              "<Figure size 640x480 with 1 Axes>"
            ],
            "image/png": "[encoded data removed]"
          },
          "metadata": {}
        }
      ]
    },
    {
      "cell_type": "markdown",
      "metadata": {
        "id": "vH47rWbccVqO"
      },
      "source": [
        "## Generate music\n",
        "\n",
        "We can now generate music using the trained model. We use an existing MIDI file\n",
        "as a seed and generate a new sequence."
      ]
    },
    {
      "cell_type": "code",
      "source": [
        "import os\n",
        "import pretty_midi\n",
        "import matplotlib.pyplot as plt\n",
        "\n",
        "def visualize_midi(midi_path, out_dir=\"tmp/\", show_plot=False):\n",
        "    # Load the MIDI file\n",
        "    midi_data = pretty_midi.PrettyMIDI(midi_path)\n",
        "\n",
        "    # Get the piano roll (shape: [128 pitches, time frames])\n",
        "    piano_roll = midi_data.get_piano_roll(fs=100)\n",
        "\n",
        "    # Plot the piano roll\n",
        "    plt.figure(figsize=(12, 4))\n",
        "    plt.imshow(piano_roll, aspect='auto', origin='lower', cmap='gray_r')\n",
        "    plt.xlabel('Time (frames)')\n",
        "    plt.ylabel('MIDI Pitch')\n",
        "    plt.title('MIDI Piano Roll')\n",
        "\n",
        "    # Ensure output directory exists\n",
        "    os.makedirs(out_dir, exist_ok=True)\n",
        "    output_path = os.path.join(out_dir, os.path.basename(midi_path).replace(\".mid\", \"_pianoroll.png\"))\n",
        "\n",
        "    # Save the figure\n",
        "    plt.savefig(output_path)\n",
        "    if show_plot:\n",
        "        plt.show()\n",
        "    else:\n",
        "        plt.close()\n",
        "\n",
        "    return f\"Saved piano roll to {output_path}\"\n"
      ],
      "metadata": {
        "id": "dbch5JGCEk6c"
      },
      "execution_count": null,
      "outputs": []
    },
    {
      "cell_type": "code",
      "execution_count": null,
      "metadata": {
        "colab": {
          "base_uri": "https://localhost:8080/",
          "height": 159
        },
        "id": "Gql7FG32cVqO",
        "outputId": "1e9da336-6414-45eb-fcfc-3ca01ff0ec87"
      },
      "outputs": [
        {
          "output_type": "stream",
          "name": "stdout",
          "text": [
            "Seed tokens: [354, 363, 60, 257, 367, 68, 258, 365, 44, 257, 363, 51, 270, 179, 357, 51, 355, 355, 323, 196, 367, 68, 365, 46, 259, 179, 363, 51, 257, 361, 61, 315, 369, 67, 317, 369, 70, 315, 195, 369, 67, 279, 188, 172, 196, 198, 267, 179, 299, 365, 63, 256, 368, 68, 257, 366, 48, 257, 361, 51, 259, 195, 263, 174, 260, 189, 330, 191, 342, 176, 275, 365, 49, 256, 364, 63, 270, 366, 65, 275, 365, 67, 272, 193, 366, 65, 279, 191, 365, 63, 361, 48, 285, 177, 195, 193, 270, 179, 265, 191, 348, 367, 70, 259, 364, 63, 256, 361, 51, 363, 43, 257, 176, 264, 196, 297, 179, 257, 191, 333, 367, 72, 257, 198, 365, 63, 256, 365, 44, 257, 171, 362, 51, 302, 191, 273, 179, 264, 200, 315, 369, 72, 172, 256, 365, 43, 363, 60, 365, 70, 256, 362, 52, 316, 180, 268, 188, 261, 200, 314, 371, 72, 257, 365, 41, 367, 68, 367, 60, 365, 53, 267, 198, 256, 171, 289, 188, 256, 181, 275, 196, 260, 169, 333, 373, 73, 256, 367, 70, 366, 49, 256, 366, 37, 366, 65, 269, 200, 295, 165]\n",
            "\u001b[1m1024/1024\u001b[0m \u001b[32m━━━━━━━━━━━━━━━━━━━━\u001b[0m\u001b[37m\u001b[0m \u001b[1m140s\u001b[0m 133ms/token\n",
            "info removed pitch: 69\n",
            "info removed pitch: 57\n",
            "info removed pitch: 57\n",
            "Saved piano roll to tmp/MIDI-Unprocessed_12_R2_2009_01_ORIG_MID--AUDIO_12_R2_2009_12_R2_2009_02_WAV_pianoroll.png\n"
          ]
        },
        {
          "output_type": "execute_result",
          "data": {
            "text/plain": [
              "'Saved piano roll to tmp/MIDI-Unprocessed_12_R2_2009_01_ORIG_MID--AUDIO_12_R2_2009_12_R2_2009_02_WAV_pianoroll.png'"
            ],
            "application/vnd.google.colaboratory.intrinsic+json": {
              "type": "string"
            }
          },
          "metadata": {},
          "execution_count": 19
        }
      ],
      "source": [
        "\n",
        "def generate_music(model, seed_path, length=1024, out_dir=None, top_k=None):\n",
        "    # Ensure the output directory exists\n",
        "    out_dir = out_dir if out_dir is not None else tempfile.mkdtemp()\n",
        "    os.makedirs(out_dir, exist_ok=True)\n",
        "\n",
        "    # Get some tokens from the MIDI file\n",
        "    inputs = midi_tokenizer.encode_midi(seed_path)[0:200]\n",
        "    print(f\"Seed tokens: {inputs}\")\n",
        "\n",
        "    # Generate music that follows the input tokens until the maximum length\n",
        "    result = model.generate(inputs, length=length, top_k=top_k)\n",
        "\n",
        "    output_path = path.join(out_dir, path.basename(seed_path).split(\".\")[0] + \".mid\")\n",
        "    midi_tokenizer.decode_midi(result, output_path)\n",
        "    return output_path\n",
        "\n",
        "\n",
        "output_file = generate_music(model, val_paths[-1], out_dir=\"tmp/\", top_k=15)\n",
        "print(visualize_midi(output_file, out_dir=\"tmp/\"))  # Saved audio path\n",
        "visualize_midi(output_file)  # Display the audio if in a Jupyter notebook"
      ]
    },
    {
      "cell_type": "code",
      "source": [
        "import pretty_midi\n",
        "\n",
        "midi_path = \"/content/tmp/MIDI-Unprocessed_12_R2_2009_01_ORIG_MID--AUDIO_12_R2_2009_12_R2_2009_02_WAV.mid\"\n",
        "output_wav = \"/content/tmp/new.wav\"\n",
        "\n",
        "# Load MIDI\n",
        "midi_data = pretty_midi.PrettyMIDI(midi_path)\n",
        "\n",
        "# Synthesize audio (requires fluidsynth or built-in synth)\n",
        "audio_data = midi_data.synthesize()\n",
        "\n",
        "# Save as WAV\n",
        "from scipy.io.wavfile import write\n",
        "write(output_wav, 44100, audio_data)  # 44100 Hz sample rate\n"
      ],
      "metadata": {
        "id": "3wacn5zWciN_"
      },
      "execution_count": null,
      "outputs": []
    },
    {
      "cell_type": "code",
      "execution_count": null,
      "metadata": {
        "id": "WiILH6HSEcOF",
        "colab": {
          "base_uri": "https://localhost:8080/",
          "height": 803
        },
        "outputId": "8d49bb88-2400-4252-bde3-c243edc00efd"
      },
      "outputs": [
        {
          "output_type": "display_data",
          "data": {
            "text/plain": [
              "<Figure size 1000x400 with 1 Axes>"
            ],
            "image/png": "[encoded data removed]"
          },
          "metadata": {}
        },
        {
          "output_type": "display_data",
          "data": {
            "text/plain": [
              "<Figure size 1000x400 with 2 Axes>"
            ],
            "image/png": "[encoded data removed]"
          },
          "metadata": {}
        }
      ],
      "source": [
        "import librosa\n",
        "import librosa.display\n",
        "import matplotlib.pyplot as plt\n",
        "import numpy as np\n",
        "\n",
        "# Path of the saved audio file\n",
        "audio_path = \"/content/tmp/new.wav\"\n",
        "\n",
        "# Load audio file\n",
        "y, sr = librosa.load(audio_path, sr=None)\n",
        "\n",
        "# Plot waveform\n",
        "plt.figure(figsize=(10, 4))\n",
        "librosa.display.waveshow(y, sr=sr)\n",
        "plt.title(\"Waveform of Audio\")\n",
        "plt.xlabel(\"Time (seconds)\")\n",
        "plt.ylabel(\"Amplitude\")\n",
        "plt.show()\n",
        "\n",
        "# Compute Spectrogram\n",
        "D = librosa.amplitude_to_db(np.abs(librosa.stft(y)), ref=np.max)\n",
        "\n",
        "# Plot Spectrogram\n",
        "plt.figure(figsize=(10, 4))\n",
        "librosa.display.specshow(D, sr=sr, x_axis=\"time\", y_axis=\"log\")\n",
        "plt.colorbar(format=\"%+2.0f dB\")\n",
        "plt.title(\"Spectrogram of Audio\")\n",
        "plt.xlabel(\"Time (seconds)\")\n",
        "plt.ylabel(\"Frequency (Hz)\")\n",
        "plt.show()\n"
      ]
    },
    {
      "cell_type": "code",
      "source": [],
      "metadata": {
        "id": "zHCE6bxzdTLL"
      },
      "execution_count": null,
      "outputs": []
    },
    {
      "cell_type": "code",
      "execution_count": null,
      "metadata": {
        "id": "ewgvJac4G5f-",
        "colab": {
          "base_uri": "https://localhost:8080/"
        },
        "outputId": "8c2027fe-da99-4a0b-92cd-419f9ef1e351"
      },
      "outputs": [
        {
          "output_type": "stream",
          "name": "stdout",
          "text": [
            "datasets/maestro/MIDI-Unprocessed_12_R2_2009_01_ORIG_MID--AUDIO_12_R2_2009_12_R2_2009_02_WAV.midi\n"
          ]
        }
      ],
      "source": [
        "print(val_paths[-1])"
      ]
    },
    {
      "cell_type": "code",
      "execution_count": null,
      "metadata": {
        "id": "X0szzWjxG73d"
      },
      "outputs": [],
      "source": []
    },
    {
      "cell_type": "code",
      "execution_count": null,
      "metadata": {
        "id": "FnSI5pmTTsnC",
        "colab": {
          "base_uri": "https://localhost:8080/"
        },
        "outputId": "b253d73f-afaa-4d74-d2e0-614388a48767"
      },
      "outputs": [
        {
          "output_type": "stream",
          "name": "stdout",
          "text": [
            "Model saved as music_transformer.pkl\n"
          ]
        }
      ],
      "source": [
        "import pickle\n",
        "\n",
        "# Assume 'model' is your trained Transformer model\n",
        "model_filename = \"music_transformer.pkl\"\n",
        "\n",
        "# Save the model using pickle\n",
        "with open(model_filename, \"wb\") as file:\n",
        "    pickle.dump(model, file)\n",
        "\n",
        "print(f\"Model saved as {model_filename}\")"
      ]
    }
  ],
  "metadata": {
    "accelerator": "GPU",
    "colab": {
      "gpuType": "T4",
      "provenance": []
    },
    "kernelspec": {
      "display_name": "Python 3",
      "name": "python3"
    },
    "language_info": {
      "codemirror_mode": {
        "name": "ipython",
        "version": 3
      },
      "file_extension": ".py",
      "mimetype": "text/x-python",
      "name": "python",
      "nbconvert_exporter": "python",
      "pygments_lexer": "ipython3",
      "version": "3.7.0"
    }
  },
  "nbformat": 4,
  "nbformat_minor": 0
}